{
 "cells": [
  {
   "cell_type": "code",
   "execution_count": 25,
   "outputs": [],
   "source": [
    "from csv import reader\n",
    "\n",
    "from src.Assignment import Assignment\n",
    "from src.Truck import Truck"
   ],
   "metadata": {
    "collapsed": false,
    "pycharm": {
     "name": "#%%\n"
    }
   }
  },
  {
   "cell_type": "code",
   "execution_count": 5,
   "metadata": {
    "collapsed": true,
    "pycharm": {
     "name": "#%%\n"
    }
   },
   "outputs": [],
   "source": [
    "truck_file = \"../data/Evo11/Evo11_LKW.csv\"\n",
    "assignment_file = \"../data/Evo11/Evo11_Auftraege.csv\""
   ]
  },
  {
   "cell_type": "code",
   "execution_count": 29,
   "outputs": [],
   "source": [
    "trucks = []\n",
    "with open(truck_file) as f:\n",
    "    rows = reader(f, delimiter=\";\")\n",
    "    next(rows)\n",
    "    for truck in rows:\n",
    "        trucks.append(Truck(\n",
    "            truck_number=int(truck[0]),\n",
    "            maximum_boxes=int(truck[1]),\n",
    "            maximum_payload=int(truck[2])\n",
    "        ))\n",
    "\n",
    "assignments = []\n",
    "with open(assignment_file) as f:\n",
    "    rows = reader(f, delimiter=\";\")\n",
    "    next(rows)\n",
    "    for assignment in rows:\n",
    "        assignments.append(Assignment(\n",
    "            assignment_number=int(assignment[0]),\n",
    "            target=str(assignment[1]).strip(),\n",
    "            driving_time=int(assignment[2]),\n",
    "            boxes=int(assignment[3]),\n",
    "            box_weight=int(assignment[4]) if len(assignment[4]) > 0 and not assignment[4].isspace() else 0,\n",
    "            bonus_time=int(assignment[5]) if len(assignment[5]) > 0 and not assignment[5].isspace() else 0,\n",
    "            bonus_value=int(assignment[6]),\n",
    "            reward=int(assignment[7]),\n",
    "            penalty_time=int(assignment[8]) if len(assignment[8]) > 0 and not assignment[8].isspace() else 0,\n",
    "            penalty_value=int(assignment[9]) if len(assignment[9]) > 0 and not assignment[9].isspace() else 0\n",
    "        ))"
   ],
   "metadata": {
    "collapsed": false,
    "pycharm": {
     "name": "#%%\n"
    }
   }
  },
  {
   "cell_type": "code",
   "execution_count": 31,
   "outputs": [
    {
     "name": "stdout",
     "output_type": "stream",
     "text": [
      "Truck(truck_number=1, maximum_boxes=24, maximum_payload=3000)\n",
      "Truck(truck_number=2, maximum_boxes=36, maximum_payload=4500)\n",
      "Truck(truck_number=3, maximum_boxes=80, maximum_payload=20000)\n",
      "Truck(truck_number=4, maximum_boxes=36, maximum_payload=2500)\n",
      "Truck(truck_number=5, maximum_boxes=24, maximum_payload=3000)\n",
      "Truck(truck_number=6, maximum_boxes=36, maximum_payload=4500)\n",
      "Truck(truck_number=7, maximum_boxes=80, maximum_payload=16000)\n",
      "Truck(truck_number=8, maximum_boxes=60, maximum_payload=4750)\n",
      "Assignment(assignment_number=1, target='A', driving_time=4, boxes=17, box_weight=120, bonus_time=12, bonus_value=200, reward=1870, penalty_time=48, penalty_value=1000)\n",
      "Assignment(assignment_number=2, target='A', driving_time=4, boxes=5, box_weight=255, bonus_time=0, bonus_value=0, reward=1000, penalty_time=48, penalty_value=600)\n",
      "Assignment(assignment_number=3, target='B', driving_time=7, boxes=22, box_weight=145, bonus_time=18, bonus_value=500, reward=7875, penalty_time=72, penalty_value=3000)\n",
      "Assignment(assignment_number=4, target='B', driving_time=7, boxes=9, box_weight=80, bonus_time=24, bonus_value=100, reward=1925, penalty_time=72, penalty_value=1000)\n",
      "Assignment(assignment_number=5, target='C', driving_time=2, boxes=11, box_weight=420, bonus_time=18, bonus_value=500, reward=1250, penalty_time=96, penalty_value=3000)\n",
      "Assignment(assignment_number=6, target='C', driving_time=2, boxes=5, box_weight=250, bonus_time=0, bonus_value=0, reward=325, penalty_time=48, penalty_value=500)\n",
      "Assignment(assignment_number=7, target='C', driving_time=2, boxes=30, box_weight=85, bonus_time=12, bonus_value=500, reward=375, penalty_time=72, penalty_value=1000)\n",
      "Assignment(assignment_number=8, target='D', driving_time=10, boxes=8, box_weight=260, bonus_time=24, bonus_value=1000, reward=3750, penalty_time=48, penalty_value=1500)\n",
      "Assignment(assignment_number=9, target='D', driving_time=5, boxes=40, box_weight=55, bonus_time=24, bonus_value=600, reward=2625, penalty_time=72, penalty_value=2000)\n",
      "Assignment(assignment_number=10, target='E', driving_time=6, boxes=15, box_weight=150, bonus_time=0, bonus_value=0, reward=3000, penalty_time=0, penalty_value=0)\n",
      "Assignment(assignment_number=11, target='E', driving_time=6, boxes=50, box_weight=175, bonus_time=36, bonus_value=200, reward=11250, penalty_time=72, penalty_value=3000)\n",
      "Assignment(assignment_number=12, target='E', driving_time=6, boxes=12, box_weight=100, bonus_time=24, bonus_value=400, reward=1800, penalty_time=0, penalty_value=0)\n",
      "Assignment(assignment_number=13, target='E', driving_time=6, boxes=25, box_weight=200, bonus_time=24, bonus_value=800, reward=2700, penalty_time=72, penalty_value=1200)\n",
      "Assignment(assignment_number=14, target='A', driving_time=4, boxes=32, box_weight=90, bonus_time=24, bonus_value=400, reward=2400, penalty_time=72, penalty_value=1000)\n",
      "Assignment(assignment_number=15, target='A', driving_time=4, boxes=5, box_weight=250, bonus_time=12, bonus_value=1000, reward=1000, penalty_time=72, penalty_value=500)\n",
      "Assignment(assignment_number=16, target='A', driving_time=4, boxes=17, box_weight=120, bonus_time=18, bonus_value=600, reward=1500, penalty_time=96, penalty_value=500)\n",
      "Assignment(assignment_number=17, target='B', driving_time=7, boxes=25, box_weight=205, bonus_time=24, bonus_value=400, reward=4375, penalty_time=72, penalty_value=1000)\n",
      "Assignment(assignment_number=18, target='B', driving_time=7, boxes=4, box_weight=300, bonus_time=0, bonus_value=0, reward=3500, penalty_time=96, penalty_value=1000)\n",
      "Assignment(assignment_number=19, target='C', driving_time=2, boxes=40, box_weight=120, bonus_time=12, bonus_value=200, reward=2000, penalty_time=48, penalty_value=500)\n",
      "Assignment(assignment_number=20, target='C', driving_time=2, boxes=23, box_weight=175, bonus_time=18, bonus_value=500, reward=875, penalty_time=48, penalty_value=500)\n",
      "Assignment(assignment_number=21, target='C', driving_time=2, boxes=10, box_weight=90, bonus_time=24, bonus_value=200, reward=600, penalty_time=0, penalty_value=0)\n",
      "Assignment(assignment_number=22, target='C', driving_time=2, boxes=12, box_weight=200, bonus_time=24, bonus_value=400, reward=850, penalty_time=72, penalty_value=500)\n",
      "Assignment(assignment_number=23, target='C', driving_time=2, boxes=22, box_weight=110, bonus_time=0, bonus_value=0, reward=1000, penalty_time=72, penalty_value=400)\n",
      "Assignment(assignment_number=24, target='D', driving_time=10, boxes=30, box_weight=220, bonus_time=36, bonus_value=1000, reward=7500, penalty_time=72, penalty_value=1000)\n",
      "Assignment(assignment_number=25, target='D', driving_time=10, boxes=12, box_weight=350, bonus_time=48, bonus_value=500, reward=3125, penalty_time=48, penalty_value=800)\n",
      "Assignment(assignment_number=26, target='E', driving_time=6, boxes=5, box_weight=500, bonus_time=12, bonus_value=1000, reward=750, penalty_time=0, penalty_value=0)\n",
      "Assignment(assignment_number=27, target='E', driving_time=6, boxes=17, box_weight=150, bonus_time=0, bonus_value=0, reward=1500, penalty_time=48, penalty_value=600)\n",
      "Assignment(assignment_number=28, target='E', driving_time=6, boxes=19, box_weight=80, bonus_time=24, bonus_value=200, reward=2250, penalty_time=0, penalty_value=0)\n",
      "Assignment(assignment_number=29, target='E', driving_time=6, boxes=10, box_weight=10, bonus_time=24, bonus_value=500, reward=1800, penalty_time=0, penalty_value=0)\n",
      "Assignment(assignment_number=30, target='E', driving_time=6, boxes=12, box_weight=31, bonus_time=0, bonus_value=0, reward=3000, penalty_time=24, penalty_value=1400)\n"
     ]
    }
   ],
   "source": [
    "for truck in trucks:\n",
    "    print(truck)\n",
    "\n",
    "for assignment in assignments:\n",
    "    print(assignment)"
   ],
   "metadata": {
    "collapsed": false,
    "pycharm": {
     "name": "#%%\n"
    }
   }
  }
 ],
 "metadata": {
  "kernelspec": {
   "display_name": "Python 3",
   "language": "python",
   "name": "python3"
  },
  "language_info": {
   "codemirror_mode": {
    "name": "ipython",
    "version": 2
   },
   "file_extension": ".py",
   "mimetype": "text/x-python",
   "name": "python",
   "nbconvert_exporter": "python",
   "pygments_lexer": "ipython2",
   "version": "2.7.6"
  }
 },
 "nbformat": 4,
 "nbformat_minor": 0
}