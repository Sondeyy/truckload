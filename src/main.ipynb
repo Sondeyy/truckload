{
 "cells": [
  {
   "cell_type": "code",
   "execution_count": 1,
   "outputs": [],
   "source": [
    "from csv import reader\n",
    "import deap\n",
    "\n",
    "from src.assignment import Assignment\n",
    "from src.truck import Truck"
   ],
   "metadata": {
    "collapsed": false,
    "pycharm": {
     "name": "#%%\n"
    }
   }
  },
  {
   "cell_type": "code",
   "execution_count": 2,
   "metadata": {
    "collapsed": true,
    "pycharm": {
     "name": "#%%\n"
    }
   },
   "outputs": [],
   "source": [
    "truck_file = \"../data/Evo11/Evo11_LKW.csv\"\n",
    "assignment_file = \"../data/Evo11/Evo11_Auftraege.csv\""
   ]
  },
  {
   "cell_type": "code",
   "execution_count": 3,
   "outputs": [],
   "source": [
    "trucks = []\n",
    "with open(truck_file) as f:\n",
    "    rows = reader(f, delimiter=\";\")\n",
    "    next(rows)\n",
    "    for truck in rows:\n",
    "        trucks.append(Truck(\n",
    "            truck_number=int(truck[0]),\n",
    "            maximum_boxes=int(truck[1]),\n",
    "            maximum_payload=int(truck[2])\n",
    "        ))\n",
    "\n",
    "assignments = []\n",
    "with open(assignment_file) as f:\n",
    "    rows = reader(f, delimiter=\";\")\n",
    "    next(rows)\n",
    "    for assignment in rows:\n",
    "        assignments.append(Assignment(\n",
    "            assignment_number=int(assignment[0]),\n",
    "            target=str(assignment[1]).strip(),\n",
    "            driving_time=int(assignment[2]),\n",
    "            boxes=int(assignment[3]),\n",
    "            box_weight=int(assignment[4]) if len(assignment[4]) > 0 and not assignment[4].isspace() else 0,\n",
    "            bonus_time=int(assignment[5]) if len(assignment[5]) > 0 and not assignment[5].isspace() else 0,\n",
    "            bonus_value=int(assignment[6]),\n",
    "            reward=int(assignment[7]),\n",
    "            penalty_time=int(assignment[8]) if len(assignment[8]) > 0 and not assignment[8].isspace() else 0,\n",
    "            penalty_value=int(assignment[9]) if len(assignment[9]) > 0 and not assignment[9].isspace() else 0\n",
    "        ))"
   ],
   "metadata": {
    "collapsed": false,
    "pycharm": {
     "name": "#%%\n"
    }
   }
  },
  {
   "cell_type": "code",
   "execution_count": 3,
   "outputs": [],
   "source": [],
   "metadata": {
    "collapsed": false,
    "pycharm": {
     "name": "#%%\n"
    }
   }
  }
 ],
 "metadata": {
  "kernelspec": {
   "display_name": "Python 3",
   "language": "python",
   "name": "python3"
  },
  "language_info": {
   "codemirror_mode": {
    "name": "ipython",
    "version": 2
   },
   "file_extension": ".py",
   "mimetype": "text/x-python",
   "name": "python",
   "nbconvert_exporter": "python",
   "pygments_lexer": "ipython2",
   "version": "2.7.6"
  }
 },
 "nbformat": 4,
 "nbformat_minor": 0
}